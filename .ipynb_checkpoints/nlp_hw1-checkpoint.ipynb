{
 "cells": [
  {
   "cell_type": "markdown",
   "metadata": {},
   "source": [
    "HW#1 詞頻分析"
   ]
  },
  {
   "cell_type": "markdown",
   "metadata": {},
   "source": [
    "1. 請先使⽤用分詞工具 斷詞"
   ]
  },
  {
   "cell_type": "markdown",
   "metadata": {},
   "source": [
    "2. 統計前一百個高頻和TF-IDF權重高的字詞 "
   ]
  },
  {
   "cell_type": "markdown",
   "metadata": {},
   "source": [
    "3. 計算並畫出其統計圖型 (2個圖)"
   ]
  },
  {
   "cell_type": "markdown",
   "metadata": {},
   "source": [
    "3.1. 一行算一個文章"
   ]
  },
  {
   "cell_type": "markdown",
   "metadata": {},
   "source": [
    "3.2. x軸 字詞編號\n",
    "     y軸 權重 fig#1和 出現頻率 fig#2 "
   ]
  },
  {
   "cell_type": "markdown",
   "metadata": {},
   "source": [
    "3.3. y軸 要sort過 取前100個"
   ]
  },
  {
   "cell_type": "code",
   "execution_count": 1,
   "metadata": {},
   "outputs": [
    {
     "name": "stderr",
     "output_type": "stream",
     "text": [
      "Building prefix dict from /Users/joanna/Desktop/nlp_hw1/dict.txt.big ...\n",
      "Loading model from cache /var/folders/vf/krhn1yxd4qzc9qr3b221ndq40000gn/T/jieba.ufa192bc550b892ddf524a9bf3a225c1b.cache\n",
      "Loading model cost 1.069 seconds.\n",
      "Prefix dict has been built successfully.\n"
     ]
    }
   ],
   "source": [
    "import jieba\n",
    "import re\n",
    "from collections import Counter\n",
    "\n",
    "jieba.set_dictionary('dict.txt.big')  # 加入繁體中文詞庫\n",
    "\n",
    "word_data = []  # 紀錄每個詞的資料\n",
    "num_of_words_in_lines = []  # 每一行有幾個詞\n",
    "line_num = 0  # 行數(文章數)\n",
    "\n",
    "for line in open('hw1-dataset.txt',encoding='utf-8'):\n",
    "    line = re.sub(\"[A-Za-z0-9\\：\\·\\—\\，\\。\\“ \\”\\.\\？\\?\\(]\", \"\", line)\n",
    "    seg_list=jieba.lcut(line,cut_all=False) # 斷詞\n",
    "    c=Counter()  # 某個詞在某行有幾個\n",
    "    num_of_words = 0  # 某行有幾個詞\n",
    "    for word in seg_list:\n",
    "        if word != '\\r\\n' and word != '\\n' and word != '\\t' and word != '\\u3000':\n",
    "            c[word] += 1\n",
    "            num_of_words = num_of_words + 1\n",
    "    items = []  # 詞\n",
    "    items = list(c.items())  \n",
    "    items.sort(key=lambda x:x[1], reverse=True)  # 照詞出現的多寡排序\n",
    "    word_data += (items, )\n",
    "    num_of_words_in_lines += (num_of_words, )\n",
    "    line_num = line_num + 1\n",
    "#print('詞/在那行出現次數:\\n')\n",
    "#for i in range(line_num):\n",
    "    #print(word_data[i])"
   ]
  },
  {
   "cell_type": "code",
   "execution_count": 2,
   "metadata": {
    "scrolled": false
   },
   "outputs": [],
   "source": [
    "import math\n",
    "\n",
    "TF = 0  # 計算各行各個詞的詞頻\n",
    "for i in range(line_num):\n",
    "    for j in range(len(word_data[i])):\n",
    "        TF = word_data[i][j][1] / num_of_words_in_lines[i]  # 一個詞出現在一個文件的頻率\n",
    "        word_data[i][j] += (TF, )\n",
    "\n",
    "in_how_many_line = {}  # 計算各個詞在幾行(幾篇文章)有出現\n",
    "for i in range(line_num):\n",
    "    for j in range(len(word_data[i])):\n",
    "        in_how_many_line[word_data[i][j][0]] = in_how_many_line.get(word_data[i][j][0],0) + 1\n",
    "        \n",
    "for i in range(line_num):\n",
    "    for j in range(len(word_data[i])):\n",
    "        word_data[i][j] += (in_how_many_line[word_data[i][j][0]], )\n",
    "        \n",
    "for i in range(line_num):  # IDF\n",
    "    for j in range(len(word_data[i])):\n",
    "        word_data[i][j] += (math.log(line_num/word_data[i][j][3]), )  # 所有文件中含有這個詞之數量的倒數\n",
    "\n",
    "for i in range(line_num):  # TF-IDF\n",
    "    for j in range(len(word_data[i])):\n",
    "        word_data[i][j] += (word_data[i][j][2] * word_data[i][j][4], )\n",
    "\n",
    "#print('詞/在那行出現次數/TF/在幾篇文章出現/IDF/TF-IDF:\\n')\n",
    "#for i in range(line_num):\n",
    "    #print(word_data[i])"
   ]
  },
  {
   "cell_type": "code",
   "execution_count": 3,
   "metadata": {},
   "outputs": [],
   "source": [
    "finaldata = []\n",
    "\n",
    "for i in range(line_num):\n",
    "    for j in range(len(word_data[i])):\n",
    "        finaldata.append((word_data[i][j]))"
   ]
  },
  {
   "cell_type": "markdown",
   "metadata": {},
   "source": [
    "<font color=black size=5>統計前一百個TF-IDF權重高的字詞並作圖</font>"
   ]
  },
  {
   "cell_type": "code",
   "execution_count": 4,
   "metadata": {},
   "outputs": [
    {
     "name": "stdout",
     "output_type": "stream",
     "text": [
      "('戊戌', 1, 1.0, 1, 12.943719848366, 12.943719848366)\n",
      "('愛玩耍', 1, 1.0, 1, 12.943719848366, 12.943719848366)\n",
      "('偽鈔', 1, 1.0, 1, 12.943719848366, 12.943719848366)\n",
      "('角速度', 1, 1.0, 1, 12.943719848366, 12.943719848366)\n",
      "('何念茲', 1, 1.0, 2, 12.250572667806054, 12.250572667806054)\n",
      "('柔珠', 1, 1.0, 4, 11.557425487246109, 11.557425487246109)\n",
      "('岡本', 1, 1.0, 8, 10.864278306686163, 10.864278306686163)\n",
      "('反田', 9, 0.8181818181818182, 1, 12.943719848366, 10.590316239572182)\n",
      "('一見鍾情', 1, 1.0, 12, 10.458813198578, 10.458813198578)\n",
      "('登登', 8, 1.0, 13, 10.378770490904463, 10.378770490904463)\n",
      "('海闊天空', 1, 1.0, 14, 10.30466251875074, 10.30466251875074)\n",
      "('巧遇', 1, 1.0, 19, 9.99928086919956, 9.99928086919956)\n",
      "('紅色警戒', 1, 1.0, 31, 9.509732643880854, 9.509732643880854)\n",
      "('鞥', 12, 0.8571428571428571, 7, 10.997809699310686, 9.426694027980588)\n",
      "('は', 1, 1.0, 42, 9.206050230082631, 9.206050230082631)\n",
      "('蝙蝠', 1, 1.0, 46, 9.115078451876904, 9.115078451876904)\n",
      "('冰水', 1, 1.0, 48, 9.072518837458109, 9.072518837458109)\n",
      "('﹎', 14, 0.7, 1, 12.943719848366, 9.060603893856198)\n",
      "('嘿嘿', 12, 1.0, 49, 9.051899550255373, 9.051899550255373)\n",
      "('潮爽', 1, 1.0, 50, 9.031696842937853, 9.031696842937853)\n",
      "('簽拉', 11, 0.7333333333333333, 2, 12.250572667806054, 8.983753289724438)\n",
      "('▍', 16, 0.7272727272727273, 2, 12.250572667806054, 8.90950739476804)\n",
      "('車手', 1, 1.0, 62, 8.816585463320909, 8.816585463320909)\n",
      "('盒子', 1, 1.0, 68, 8.724212143189893, 8.724212143189893)\n",
      "('龘', 24, 0.7741935483870968, 6, 11.151960379137945, 8.633775777397119)\n",
      "('輝輝輝', 4, 0.6666666666666666, 1, 12.943719848366, 8.629146565577333)\n",
      "('∷', 16, 0.64, 1, 12.943719848366, 8.28398070295424)\n",
      "('____', 1, 1.0, 106, 8.280280754253933, 8.280280754253933)\n",
      "('滾滾', 4, 0.8, 14, 10.30466251875074, 8.243730015000592)\n",
      "('政問', 1, 1.0, 120, 8.156228105583955, 8.156228105583955)\n",
      "('新歌', 1, 1.0, 123, 8.131535492993581, 8.131535492993581)\n",
      "('專用', 1, 1.0, 126, 8.107437941414522, 8.107437941414522)\n",
      "('賀賀', 6, 0.6666666666666666, 3, 11.84510755969789, 7.896738373131926)\n",
      "('自犬', 2, 0.6666666666666666, 3, 11.84510755969789, 7.896738373131926)\n",
      "('西門町', 1, 1.0, 156, 7.893863841116462, 7.893863841116462)\n",
      "('金正恩', 1, 1.0, 169, 7.813821133442926, 7.813821133442926)\n",
      "('羽彩', 3, 0.6, 1, 12.943719848366, 7.7662319090195995)\n",
      "('皮豆', 9, 0.6, 1, 12.943719848366, 7.7662319090195995)\n",
      "('脫魯', 1, 1.0, 192, 7.686224476338218, 7.686224476338218)\n",
      "('團', 2, 1.0, 203, 7.630513869324212, 7.630513869324212)\n",
      "('聽不懂', 1, 1.0, 221, 7.545557146848247, 7.545557146848247)\n",
      "('一切順利', 2, 0.6666666666666666, 6, 11.151960379137945, 7.43464025275863)\n",
      "('〩', 4, 0.5714285714285714, 1, 12.943719848366, 7.396411341923428)\n",
      "('三小', 1, 1.0, 271, 7.341601027486299, 7.341601027486299)\n",
      "('嫑', 24, 0.8275862068965517, 59, 8.86618240446028, 7.337530265760232)\n",
      "('國國國', 11, 0.7333333333333333, 19, 9.99928086919956, 7.332805970746342)\n",
      "('吖', 12, 0.631578947368421, 4, 11.557425487246109, 7.299426623523858)\n",
      "('好詩', 2, 0.6666666666666666, 8, 10.864278306686163, 7.242852204457442)\n",
      "('開頭', 1, 1.0, 312, 7.200716660556518, 7.200716660556518)\n",
      "('發大財', 2, 0.6666666666666666, 11, 10.545824575567629, 7.030549717045085)\n",
      "('卍', 19, 0.76, 44, 9.159530214447738, 6.961242962980281)\n",
      "('面議', 2, 0.6666666666666666, 15, 10.235669647263789, 6.823779764842525)\n",
      "('歐拉', 5, 0.7142857142857143, 31, 9.509732643880854, 6.79266617420061)\n",
      "('幫幫', 11, 0.6470588235294118, 14, 10.30466251875074, 6.667722806250479)\n",
      "('演唱會', 1, 1.0, 578, 6.584145979693623, 6.584145979693623)\n",
      "('噢', 19, 0.7916666666666666, 103, 8.308990860136364, 6.577951097607954)\n",
      "('發文', 1, 1.0, 593, 6.5585254493682745, 6.5585254493682745)\n",
      "('嘻嘻', 5, 1.0, 630, 6.498000028980422, 6.498000028980422)\n",
      "('甲殼蟲樂隊', 1, 0.5, 1, 12.943719848366, 6.471859924183)\n",
      "('電和聯電', 1, 0.5, 1, 12.943719848366, 6.471859924183)\n",
      "('帥之形', 1, 0.5, 1, 12.943719848366, 6.471859924183)\n",
      "('收悉', 1, 0.5, 1, 12.943719848366, 6.471859924183)\n",
      "('董滋', 4, 0.5, 1, 12.943719848366, 6.471859924183)\n",
      "('嘻三小糙', 1, 0.5, 1, 12.943719848366, 6.471859924183)\n",
      "('吉吉覆吉吉', 1, 0.5, 1, 12.943719848366, 6.471859924183)\n",
      "('嘴破還', 1, 0.5, 1, 12.943719848366, 6.471859924183)\n",
      "('估摸', 5, 0.5, 1, 12.943719848366, 6.471859924183)\n",
      "('搶三小幹', 1, 0.5, 1, 12.943719848366, 6.471859924183)\n",
      "('公三小喇蛤', 1, 0.5, 1, 12.943719848366, 6.471859924183)\n",
      "('猜三小滾', 1, 0.5, 1, 12.943719848366, 6.471859924183)\n",
      "('艦艦', 2, 0.5, 1, 12.943719848366, 6.471859924183)\n",
      "('圖咧文', 1, 0.5, 1, 12.943719848366, 6.471859924183)\n",
      "('喝三小滾', 1, 0.5, 1, 12.943719848366, 6.471859924183)\n",
      "('星大冰美', 1, 0.5, 1, 12.943719848366, 6.471859924183)\n",
      "('共三小幹', 1, 0.5, 1, 12.943719848366, 6.471859924183)\n",
      "('沃爾特', 1, 0.5, 1, 12.943719848366, 6.471859924183)\n",
      "('布拉頓', 1, 0.5, 1, 12.943719848366, 6.471859924183)\n",
      "('安價的掛', 1, 0.5, 1, 12.943719848366, 6.471859924183)\n",
      "('姆斯花', 1, 0.5, 1, 12.943719848366, 6.471859924183)\n",
      "('修哀度', 1, 0.5, 1, 12.943719848366, 6.471859924183)\n",
      "('-_______________-', 1, 0.5, 1, 12.943719848366, 6.471859924183)\n",
      "('蓋三小啦森', 1, 0.5, 1, 12.943719848366, 6.471859924183)\n",
      "('改人獸', 1, 0.5, 1, 12.943719848366, 6.471859924183)\n",
      "('咩', 25, 0.9615384615384616, 540, 6.65215070880768, 6.396298758468923)\n",
      "('甲', 1, 1.0, 746, 6.328994248162239, 6.328994248162239)\n",
      "('っ', 7, 0.7, 51, 9.011894215641673, 6.308325950949171)\n",
      "('あ', 12, 0.6666666666666666, 39, 9.280158202236354, 6.186772134824236)\n",
      "('哈哈哈', 2, 1.0, 893, 6.149133267489501, 6.149133267489501)\n",
      "('會友', 1, 0.5, 2, 12.250572667806054, 6.125286333903027)\n",
      "('國小蘿莉', 1, 0.5, 2, 12.250572667806054, 6.125286333903027)\n",
      "('丑時', 1, 0.5, 2, 12.250572667806054, 6.125286333903027)\n",
      "('原者', 1, 0.5, 2, 12.250572667806054, 6.125286333903027)\n",
      "('清不掉', 1, 0.5, 2, 12.250572667806054, 6.125286333903027)\n",
      "('弄巧成拙', 1, 0.5, 2, 12.250572667806054, 6.125286333903027)\n",
      "('普亭', 1, 0.5, 2, 12.250572667806054, 6.125286333903027)\n",
      "('額額', 8, 0.47058823529411764, 1, 12.943719848366, 6.091162281583999)\n",
      "('小號', 8, 0.6153846153846154, 23, 9.80822563243685, 6.035831158422677)\n",
      "('✈', 6, 0.6, 18, 10.053348090469836, 6.0320088542819015)\n",
      "('表示', 1, 1.0, 1038, 5.998668784640166, 5.998668784640166)\n",
      "('氷', 2, 0.5, 3, 11.84510755969789, 5.922553779848945)\n"
     ]
    }
   ],
   "source": [
    "finaldata.sort(key=lambda x:x[5], reverse=True)  # 依TF-IDF排序\n",
    "\n",
    "TF_IDF_oh = []  # TF-IDF取前100\n",
    "already = 0  # 計算已經取出幾個詞了\n",
    "no = 0  # 要取第幾個finaldata\n",
    "while(already <= 100):\n",
    "    repeat_or_not = 0  # 看有無重複\n",
    "    for j in range(already):\n",
    "        if already!=0:\n",
    "            if finaldata[no][0] == TF_IDF_oh[j][0]:  # 欲放入和已放入重複\n",
    "                no = no+1\n",
    "                repeat_or_not = 1\n",
    "                break\n",
    "    if repeat_or_not == 0:  # 沒重複\n",
    "        TF_IDF_oh.append(finaldata[no])  # 放入那個詞\n",
    "        no = no+1\n",
    "        already = already+1\n",
    "\n",
    "for i in range(100):\n",
    "    print(TF_IDF_oh[i])"
   ]
  },
  {
   "cell_type": "code",
   "execution_count": 5,
   "metadata": {},
   "outputs": [
    {
     "data": {
      "image/png": "[encoded data removed]",
      "text/plain": [
       "<Figure size 432x288 with 1 Axes>"
      ]
     },
     "metadata": {
      "needs_background": "light"
     },
     "output_type": "display_data"
    }
   ],
   "source": [
    "import matplotlib.pyplot as plt  # TF-IDF圖\n",
    "\n",
    "x_label = []\n",
    "y_label = []\n",
    "\n",
    "for i in range(100):\n",
    "    x_label.append(i)\n",
    "    y_label.append(TF_IDF_oh[i][5])\n",
    "\n",
    "plt.title('fig#1')\n",
    "plt.xlabel('Word No')\n",
    "plt.ylabel('Weight')\n",
    "plt.bar(x_label,y_label)\n",
    "\n",
    "plt.show()"
   ]
  },
  {
   "cell_type": "markdown",
   "metadata": {},
   "source": [
    "<font color=black size=5>統計前一百個高頻的字詞並作圖</font>"
   ]
  },
  {
   "cell_type": "code",
   "execution_count": 6,
   "metadata": {},
   "outputs": [
    {
     "name": "stdout",
     "output_type": "stream",
     "text": [
      "('戊戌', 1, 1.0, 1, 12.943719848366, 12.943719848366)\n",
      "('愛玩耍', 1, 1.0, 1, 12.943719848366, 12.943719848366)\n",
      "('偽鈔', 1, 1.0, 1, 12.943719848366, 12.943719848366)\n",
      "('角速度', 1, 1.0, 1, 12.943719848366, 12.943719848366)\n",
      "('何念茲', 1, 1.0, 2, 12.250572667806054, 12.250572667806054)\n",
      "('柔珠', 1, 1.0, 4, 11.557425487246109, 11.557425487246109)\n",
      "('岡本', 1, 1.0, 8, 10.864278306686163, 10.864278306686163)\n",
      "('一見鍾情', 1, 1.0, 12, 10.458813198578, 10.458813198578)\n",
      "('登登', 8, 1.0, 13, 10.378770490904463, 10.378770490904463)\n",
      "('海闊天空', 1, 1.0, 14, 10.30466251875074, 10.30466251875074)\n",
      "('巧遇', 1, 1.0, 19, 9.99928086919956, 9.99928086919956)\n",
      "('紅色警戒', 1, 1.0, 31, 9.509732643880854, 9.509732643880854)\n",
      "('は', 1, 1.0, 42, 9.206050230082631, 9.206050230082631)\n",
      "('蝙蝠', 1, 1.0, 46, 9.115078451876904, 9.115078451876904)\n",
      "('冰水', 1, 1.0, 48, 9.072518837458109, 9.072518837458109)\n",
      "('嘿嘿', 12, 1.0, 49, 9.051899550255373, 9.051899550255373)\n",
      "('潮爽', 1, 1.0, 50, 9.031696842937853, 9.031696842937853)\n",
      "('車手', 1, 1.0, 62, 8.816585463320909, 8.816585463320909)\n",
      "('盒子', 1, 1.0, 68, 8.724212143189893, 8.724212143189893)\n",
      "('____', 1, 1.0, 106, 8.280280754253933, 8.280280754253933)\n",
      "('政問', 1, 1.0, 120, 8.156228105583955, 8.156228105583955)\n",
      "('新歌', 1, 1.0, 123, 8.131535492993581, 8.131535492993581)\n",
      "('專用', 1, 1.0, 126, 8.107437941414522, 8.107437941414522)\n",
      "('西門町', 1, 1.0, 156, 7.893863841116462, 7.893863841116462)\n",
      "('金正恩', 1, 1.0, 169, 7.813821133442926, 7.813821133442926)\n",
      "('脫魯', 1, 1.0, 192, 7.686224476338218, 7.686224476338218)\n",
      "('團', 2, 1.0, 203, 7.630513869324212, 7.630513869324212)\n",
      "('聽不懂', 1, 1.0, 221, 7.545557146848247, 7.545557146848247)\n",
      "('三小', 1, 1.0, 271, 7.341601027486299, 7.341601027486299)\n",
      "('開頭', 1, 1.0, 312, 7.200716660556518, 7.200716660556518)\n",
      "('演唱會', 1, 1.0, 578, 6.584145979693623, 6.584145979693623)\n",
      "('發文', 1, 1.0, 593, 6.5585254493682745, 6.5585254493682745)\n",
      "('嘻嘻', 5, 1.0, 630, 6.498000028980422, 6.498000028980422)\n",
      "('甲', 1, 1.0, 746, 6.328994248162239, 6.328994248162239)\n",
      "('哈哈哈', 2, 1.0, 893, 6.149133267489501, 6.149133267489501)\n",
      "('表示', 1, 1.0, 1038, 5.998668784640166, 5.998668784640166)\n",
      "('加', 1, 1.0, 1465, 5.654109326914832, 5.654109326914832)\n",
      "('好看', 1, 1.0, 1544, 5.6015881177812785, 5.6015881177812785)\n",
      "(\"'\", 1, 1.0, 1787, 5.455426333206572, 5.455426333206572)\n",
      "('/', 2, 1.0, 2316, 5.196123009673114, 5.196123009673114)\n",
      "('錢', 5, 1.0, 6127, 4.223259335640345, 4.223259335640345)\n",
      "(',', 1, 1.0, 7893, 3.9699882786575973, 3.9699882786575973)\n",
      "('喔', 9, 1.0, 8596, 3.884667590603599, 3.884667590603599)\n",
      "('還是', 1, 1.0, 11129, 3.6264102553925746, 3.6264102553925746)\n",
      "('肥宅', 1, 1.0, 18586, 3.113555960248715, 3.113555960248715)\n",
      "('咩', 25, 0.9615384615384616, 540, 6.65215070880768, 6.396298758468923)\n",
      "('!', 31, 0.9393939393939394, 6220, 4.208194662632775, 3.9531525618671526)\n",
      "('啦', 27, 0.9, 10243, 3.7093700239294654, 3.338433021536519)\n",
      "('鞥', 12, 0.8571428571428571, 7, 10.997809699310686, 9.426694027980588)\n",
      "('喵', 24, 0.8571428571428571, 462, 6.808154957284261, 5.835561391957937)\n",
      "('~', 6, 0.8571428571428571, 5317, 4.365055334861661, 3.741476001309995)\n",
      "('嫑', 24, 0.8275862068965517, 59, 8.86618240446028, 7.337530265760232)\n",
      "('欸', 24, 0.8275862068965517, 2605, 5.078531894178532, 4.202922946906371)\n",
      "('>', 23, 0.8214285714285714, 2069, 5.308899170620457, 4.360881461581089)\n",
      "('反田', 9, 0.8181818181818182, 1, 12.943719848366, 10.590316239572182)\n",
      "('滾滾', 4, 0.8, 14, 10.30466251875074, 8.243730015000592)\n",
      "('噢', 19, 0.7916666666666666, 103, 8.308990860136364, 6.577951097607954)\n",
      "('龘', 24, 0.7741935483870968, 6, 11.151960379137945, 8.633775777397119)\n",
      "('怎樣', 10, 0.7692307692307693, 8227, 3.9285431411970695, 3.0219562624592844)\n",
      "('尻', 13, 0.7647058823529411, 1937, 5.374824184959004, 4.110159670851003)\n",
      "('～', 13, 0.7647058823529411, 2259, 5.221042331897997, 3.992561783216115)\n",
      "('卍', 19, 0.76, 44, 9.159530214447738, 6.961242962980281)\n",
      "('廠廠', 12, 0.75, 162, 7.856123513133616, 5.892092634850211)\n",
      "('年輕人', 3, 0.75, 1586, 5.574749446171206, 4.181062084628405)\n",
      "('ㄏ', 17, 0.7391304347826086, 570, 6.598083487537404, 4.876844316875473)\n",
      "('越', 14, 0.7368421052631579, 798, 6.261611250916191, 4.613818816464562)\n",
      "('簽拉', 11, 0.7333333333333333, 2, 12.250572667806054, 8.983753289724438)\n",
      "('國國國', 11, 0.7333333333333333, 19, 9.99928086919956, 7.332805970746342)\n",
      "('▍', 16, 0.7272727272727273, 2, 12.250572667806054, 8.90950739476804)\n",
      "('啊啊啊', 8, 0.7272727272727273, 167, 7.825726035949245, 5.691437117053996)\n",
      "('噁', 16, 0.7272727272727273, 951, 6.086205785820609, 4.426331480596807)\n",
      "('吃', 16, 0.7272727272727273, 16850, 3.211613912585492, 2.335719209153085)\n",
      "('歐拉', 5, 0.7142857142857143, 31, 9.509732643880854, 6.79266617420061)\n",
      "('啾', 10, 0.7142857142857143, 160, 7.868546033132173, 5.620390023665838)\n",
      "('$', 20, 0.7142857142857143, 349, 7.088647926163572, 5.063319947259695)\n",
      "('=', 20, 0.7142857142857143, 2968, 4.948076244078729, 3.5343401743419496)\n",
      "('惹', 15, 0.7142857142857143, 4630, 4.50340770128572, 3.2167197866326576)\n",
      "('！', 15, 0.7142857142857143, 8785, 3.8629188477448024, 2.7592277483891445)\n",
      "('﹎', 14, 0.7, 1, 12.943719848366, 9.060603893856198)\n",
      "('っ', 7, 0.7, 51, 9.011894215641673, 6.308325950949171)\n",
      "('甩', 11, 0.6875, 199, 7.650415023641507, 5.259660328753537)\n",
      "('@', 13, 0.6842105263157895, 762, 6.307773292679354, 4.315844884464821)\n",
      "('輝輝輝', 4, 0.6666666666666666, 1, 12.943719848366, 8.629146565577333)\n",
      "('賀賀', 6, 0.6666666666666666, 3, 11.84510755969789, 7.896738373131926)\n",
      "('自犬', 2, 0.6666666666666666, 3, 11.84510755969789, 7.896738373131926)\n",
      "('一切順利', 2, 0.6666666666666666, 6, 11.151960379137945, 7.43464025275863)\n",
      "('好詩', 2, 0.6666666666666666, 8, 10.864278306686163, 7.242852204457442)\n",
      "('發大財', 2, 0.6666666666666666, 11, 10.545824575567629, 7.030549717045085)\n",
      "('面議', 2, 0.6666666666666666, 15, 10.235669647263789, 6.823779764842525)\n",
      "('あ', 12, 0.6666666666666666, 39, 9.280158202236354, 6.186772134824236)\n",
      "('蛤', 2, 0.6666666666666666, 169, 7.813821133442926, 5.20921408896195)\n",
      "('沒事兒', 2, 0.6666666666666666, 174, 7.78466454915147, 5.18977636610098)\n",
      "('蝦', 2, 0.6666666666666666, 192, 7.686224476338218, 5.124149650892145)\n",
      "('加油', 2, 0.6666666666666666, 547, 6.639271045944018, 4.426180697296012)\n",
      "('哪部', 2, 0.6666666666666666, 657, 6.456035829881389, 4.304023886587593)\n",
      "('乖乖', 6, 0.6666666666666666, 697, 6.396934437605476, 4.264622958403651)\n",
      "('哈哈', 2, 0.6666666666666666, 761, 6.309086490504314, 4.206057660336209)\n",
      "('☺', 6, 0.6666666666666666, 814, 6.2417594823634595, 4.161172988242306)\n",
      "('正', 2, 0.6666666666666666, 1599, 5.566586135532045, 3.71105742368803)\n",
      "(':', 2, 0.6666666666666666, 3495, 4.784631193698089, 3.189754129132059)\n"
     ]
    }
   ],
   "source": [
    "finaldata.sort(key=lambda x:x[2], reverse=True)  # 依TF排序\n",
    "\n",
    "TF_oh = []  # TF取前100\n",
    "already = 0\n",
    "no = 0\n",
    "while(already<=100):\n",
    "    repeat_or_not = 0\n",
    "    for j in range(already):\n",
    "        if already!=0:\n",
    "            if finaldata[no][0] == TF_oh[j][0]:\n",
    "                no = no+1\n",
    "                repeat_or_not = 1\n",
    "                break\n",
    "    if repeat_or_not == 0:\n",
    "        TF_oh.append(finaldata[no])\n",
    "        no = no+1\n",
    "        already = already+1\n",
    "\n",
    "for i in range(100):\n",
    "    print(TF_oh[i])"
   ]
  },
  {
   "cell_type": "code",
   "execution_count": 7,
   "metadata": {},
   "outputs": [
    {
     "data": {
      "image/png": "[encoded data removed]",
      "text/plain": [
       "<Figure size 432x288 with 1 Axes>"
      ]
     },
     "metadata": {
      "needs_background": "light"
     },
     "output_type": "display_data"
    }
   ],
   "source": [
    "# TF圖\n",
    "x_label = []\n",
    "y_label = []\n",
    "\n",
    "for i in range(100):\n",
    "    x_label.append(i)\n",
    "    y_label.append(TF_oh[i][2])\n",
    "\n",
    "plt.title('fig#2')\n",
    "plt.xlabel('Word No')\n",
    "plt.ylabel('Freq')\n",
    "plt.bar(x_label,y_label)\n",
    "\n",
    "plt.show()"
   ]
  },
  {
   "cell_type": "code",
   "execution_count": null,
   "metadata": {},
   "outputs": [],
   "source": []
  }
 ],
 "metadata": {
  "kernelspec": {
   "display_name": "Python 3",
   "language": "python",
   "name": "python3"
  },
  "language_info": {
   "codemirror_mode": {
    "name": "ipython",
    "version": 3
   },
   "file_extension": ".py",
   "mimetype": "text/x-python",
   "name": "python",
   "nbconvert_exporter": "python",
   "pygments_lexer": "ipython3",
   "version": "3.8.5"
  }
 },
 "nbformat": 4,
 "nbformat_minor": 4
}
